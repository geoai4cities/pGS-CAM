{
 "cells": [
  {
   "cell_type": "code",
   "execution_count": 1,
   "id": "b5e9b808",
   "metadata": {},
   "outputs": [],
   "source": [
    "import numpy as np"
   ]
  },
  {
   "cell_type": "code",
   "execution_count": 2,
   "id": "37893e36",
   "metadata": {},
   "outputs": [],
   "source": [
    "a = np.random.rand(100000,)"
   ]
  },
  {
   "cell_type": "code",
   "execution_count": 5,
   "id": "3bbc9bb6",
   "metadata": {},
   "outputs": [],
   "source": [
    "sort = a.sort()"
   ]
  },
  {
   "cell_type": "code",
   "execution_count": null,
   "id": "c16b89d6",
   "metadata": {},
   "outputs": [],
   "source": []
  }
 ],
 "metadata": {
  "kernelspec": {
   "display_name": "Python 3 (ipykernel)",
   "language": "python",
   "name": "python3"
  },
  "language_info": {
   "codemirror_mode": {
    "name": "ipython",
    "version": 3
   },
   "file_extension": ".py",
   "mimetype": "text/x-python",
   "name": "python",
   "nbconvert_exporter": "python",
   "pygments_lexer": "ipython3",
   "version": "3.7.6"
  }
 },
 "nbformat": 4,
 "nbformat_minor": 5
}
