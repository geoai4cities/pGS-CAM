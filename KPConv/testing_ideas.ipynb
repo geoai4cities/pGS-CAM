{
 "cells": [
  {
   "cell_type": "code",
   "execution_count": 37,
   "id": "9770a1d8",
   "metadata": {},
   "outputs": [],
   "source": [
    "import numpy as np\n",
    "from sklearn.neighbors import KDTree"
   ]
  },
  {
   "cell_type": "code",
   "execution_count": 30,
   "id": "1d93ee37",
   "metadata": {},
   "outputs": [],
   "source": [
    "a = np.random.rand(10000000,)"
   ]
  },
  {
   "cell_type": "code",
   "execution_count": 31,
   "id": "d821a92c",
   "metadata": {},
   "outputs": [],
   "source": [
    "rev_a = np.sort(a)[::-1]"
   ]
  },
  {
   "cell_type": "code",
   "execution_count": 32,
   "id": "46179d97",
   "metadata": {},
   "outputs": [],
   "source": [
    "sort_ind = np.argsort(a)[::-1]"
   ]
  },
  {
   "cell_type": "code",
   "execution_count": 49,
   "id": "8f2ca280",
   "metadata": {},
   "outputs": [
    {
     "data": {
      "text/plain": [
       "array([ True,  True,  True, ...,  True,  True,  True])"
      ]
     },
     "execution_count": 49,
     "metadata": {},
     "output_type": "execute_result"
    }
   ],
   "source": [
    "a[sort_ind[:10000]] == rev_a[:10000]"
   ]
  },
  {
   "cell_type": "code",
   "execution_count": 46,
   "id": "71a928d5",
   "metadata": {},
   "outputs": [
    {
     "data": {
      "text/plain": [
       "array([9.99999996e-01, 9.99999847e-01, 9.99999826e-01, ...,\n",
       "       2.32752528e-07, 1.58988612e-07, 1.03247095e-07])"
      ]
     },
     "execution_count": 46,
     "metadata": {},
     "output_type": "execute_result"
    }
   ],
   "source": [
    "rev_a"
   ]
  },
  {
   "cell_type": "code",
   "execution_count": 10,
   "id": "3cc67d61",
   "metadata": {},
   "outputs": [],
   "source": [
    "from utils.ply import read_ply, write_ply\n",
    "import numpy as np"
   ]
  },
  {
   "cell_type": "code",
   "execution_count": 28,
   "id": "bc6b6caf",
   "metadata": {},
   "outputs": [
    {
     "data": {
      "text/plain": [
       "True"
      ]
     },
     "execution_count": 28,
     "metadata": {},
     "output_type": "execute_result"
    }
   ],
   "source": [
    "cloud = read_ply('./pgscam_results/KPConv_NPM3d_7_cloud.ply')\n",
    "\n",
    "hm = cloud['pgscam']\n",
    "\n",
    "hm_clean = np.nan_to_num(hm, nan=0.0)\n",
    "\n",
    "x = cloud['x']\n",
    "y = cloud['y']\n",
    "z = cloud['z']\n",
    "preds = cloud['preds']\n",
    "cls = cloud['class']\n",
    "pgscam = hm_clean\n",
    "\n",
    "write_ply('./pgscam_results/KPConv_NPM3d_7_act_22.ply', [x, y, z, preds, cls, pgscam], ['x', 'y', 'z', 'preds', 'class', 'pgscam'])"
   ]
  },
  {
   "cell_type": "code",
   "execution_count": 35,
   "id": "3e15a421",
   "metadata": {},
   "outputs": [],
   "source": [
    "points = np.vstack((cloud['x'], cloud['y'], cloud['z'])).T"
   ]
  },
  {
   "cell_type": "code",
   "execution_count": 38,
   "id": "51b7a514",
   "metadata": {},
   "outputs": [],
   "source": [
    "tree = KDTree(points, leaf_size=40)"
   ]
  },
  {
   "cell_type": "code",
   "execution_count": 43,
   "id": "28686e01",
   "metadata": {},
   "outputs": [],
   "source": [
    "x = np.random.rand(8000, 3)"
   ]
  },
  {
   "cell_type": "code",
   "execution_count": 51,
   "id": "d13d2728",
   "metadata": {},
   "outputs": [],
   "source": [
    "tree = KDTree(x, leaf_size=40)"
   ]
  },
  {
   "cell_type": "code",
   "execution_count": 55,
   "id": "f35439f5",
   "metadata": {},
   "outputs": [],
   "source": [
    "idx = tree.query(points, k=1, return_distance=False)"
   ]
  },
  {
   "cell_type": "code",
   "execution_count": 56,
   "id": "5a391fc5",
   "metadata": {},
   "outputs": [],
   "source": [
    "idx = idx.squeeze()"
   ]
  },
  {
   "cell_type": "code",
   "execution_count": 62,
   "id": "f08efba2",
   "metadata": {},
   "outputs": [
    {
     "data": {
      "text/plain": [
       "(8880908,)"
      ]
     },
     "execution_count": 62,
     "metadata": {},
     "output_type": "execute_result"
    }
   ],
   "source": [
    "idx.shape"
   ]
  },
  {
   "cell_type": "code",
   "execution_count": 58,
   "id": "4e98c18d",
   "metadata": {},
   "outputs": [],
   "source": [
    "proj = np.random.rand(8000,)"
   ]
  },
  {
   "cell_type": "code",
   "execution_count": 61,
   "id": "4e5c6cb2",
   "metadata": {},
   "outputs": [
    {
     "data": {
      "text/plain": [
       "(8880908,)"
      ]
     },
     "execution_count": 61,
     "metadata": {},
     "output_type": "execute_result"
    }
   ],
   "source": [
    "proj[idx].shape"
   ]
  },
  {
   "cell_type": "code",
   "execution_count": 63,
   "id": "0b5ba9b0",
   "metadata": {},
   "outputs": [
    {
     "data": {
      "text/plain": [
       "array([ 0,  1,  2,  3,  4,  5,  6,  7,  8,  9, 10, 11, 12, 13, 14, 15, 16,\n",
       "       17, 18, 19, 20, 21])"
      ]
     },
     "execution_count": 63,
     "metadata": {},
     "output_type": "execute_result"
    }
   ],
   "source": [
    "np.arange(0, 22)"
   ]
  },
  {
   "cell_type": "code",
   "execution_count": null,
   "id": "cc32b849",
   "metadata": {},
   "outputs": [],
   "source": []
  }
 ],
 "metadata": {
  "kernelspec": {
   "display_name": "Python 3 (ipykernel)",
   "language": "python",
   "name": "python3"
  },
  "language_info": {
   "codemirror_mode": {
    "name": "ipython",
    "version": 3
   },
   "file_extension": ".py",
   "mimetype": "text/x-python",
   "name": "python",
   "nbconvert_exporter": "python",
   "pygments_lexer": "ipython3",
   "version": "3.7.6"
  }
 },
 "nbformat": 4,
 "nbformat_minor": 5
}
