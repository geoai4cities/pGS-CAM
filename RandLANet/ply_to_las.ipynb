{
 "cells": [
  {
   "cell_type": "code",
   "execution_count": 16,
   "id": "350413ff",
   "metadata": {},
   "outputs": [],
   "source": [
    "import open3d as o3d\n",
    "from utils.ply import read_ply, write_ply"
   ]
  },
  {
   "cell_type": "code",
   "execution_count": 17,
   "id": "5d2205ec",
   "metadata": {},
   "outputs": [],
   "source": [
    "cloud = read_ply('./visuals/car_0_vanillaCam.ply')"
   ]
  },
  {
   "cell_type": "code",
   "execution_count": 22,
   "id": "12a542c6",
   "metadata": {},
   "outputs": [],
   "source": [
    "x = np.expand_dims(cloud['x'], axis=-1)\n",
    "y = np.expand_dims(cloud['y'], axis=-1)\n",
    "z = np.expand_dims(cloud['z'], axis=-1)\n",
    "label = np.expand_dims(cloud['labels'], axis=-1)\n",
    "preds = np.expand_dims(cloud['preds'], axis=-1)\n",
    "\n",
    "\n",
    "cloud = np.hstack((x,y,z,label))\n"
   ]
  },
  {
   "cell_type": "code",
   "execution_count": 25,
   "id": "7721ed36",
   "metadata": {},
   "outputs": [
    {
     "ename": "TypeError",
     "evalue": "write_point_cloud(): incompatible function arguments. The following argument types are supported:\n    1. (filename: str, pointcloud: open3d.cuda.pybind.t.geometry.PointCloud, write_ascii: bool = False, compressed: bool = False, print_progress: bool = False) -> bool\n\nInvoked with: 'sample_car.txt', array([[  7.86579895,   1.11067152,  -1.86964512,   9.        ],\n       [ 11.83068371,   6.99984741,  -1.42413414,  19.        ],\n       [ -1.28189254,  -4.21003151,  -1.79444134,   9.        ],\n       ...,\n       [ -2.07312369,   4.0050621 ,  -1.98726964,   9.        ],\n       [ -3.09287238,  -8.94020081,  -1.19937778,  17.        ],\n       [-11.17925358,   3.87654829,  -1.82595134,   9.        ]])",
     "output_type": "error",
     "traceback": [
      "\u001b[0;31m---------------------------------------------------------------------------\u001b[0m",
      "\u001b[0;31mTypeError\u001b[0m                                 Traceback (most recent call last)",
      "\u001b[0;32m/tmp/ipykernel_3636257/741659541.py\u001b[0m in \u001b[0;36m<module>\u001b[0;34m\u001b[0m\n\u001b[0;32m----> 1\u001b[0;31m \u001b[0mo3d\u001b[0m\u001b[0;34m.\u001b[0m\u001b[0mt\u001b[0m\u001b[0;34m.\u001b[0m\u001b[0mio\u001b[0m\u001b[0;34m.\u001b[0m\u001b[0mwrite_point_cloud\u001b[0m\u001b[0;34m(\u001b[0m\u001b[0;34m'sample_car.txt'\u001b[0m\u001b[0;34m,\u001b[0m \u001b[0mcloud\u001b[0m\u001b[0;34m)\u001b[0m\u001b[0;34m\u001b[0m\u001b[0;34m\u001b[0m\u001b[0m\n\u001b[0m",
      "\u001b[0;31mTypeError\u001b[0m: write_point_cloud(): incompatible function arguments. The following argument types are supported:\n    1. (filename: str, pointcloud: open3d.cuda.pybind.t.geometry.PointCloud, write_ascii: bool = False, compressed: bool = False, print_progress: bool = False) -> bool\n\nInvoked with: 'sample_car.txt', array([[  7.86579895,   1.11067152,  -1.86964512,   9.        ],\n       [ 11.83068371,   6.99984741,  -1.42413414,  19.        ],\n       [ -1.28189254,  -4.21003151,  -1.79444134,   9.        ],\n       ...,\n       [ -2.07312369,   4.0050621 ,  -1.98726964,   9.        ],\n       [ -3.09287238,  -8.94020081,  -1.19937778,  17.        ],\n       [-11.17925358,   3.87654829,  -1.82595134,   9.        ]])"
     ]
    }
   ],
   "source": [
    "o3d.t.io.write_point_cloud('sample_car.txt', cloud)"
   ]
  },
  {
   "cell_type": "code",
   "execution_count": 10,
   "id": "f737d744",
   "metadata": {},
   "outputs": [],
   "source": [
    "header = laspy.header.Header(point_format=2)"
   ]
  },
  {
   "cell_type": "code",
   "execution_count": 13,
   "id": "352d963c",
   "metadata": {},
   "outputs": [
    {
     "name": "stderr",
     "output_type": "stream",
     "text": [
      "/DATA/abhishek/venv/lib/python3.7/site-packages/laspy/base.py:1440: RuntimeWarning: divide by zero encountered in true_divide\n",
      "  self.set_dimension(\"X\", np.round((X - self.header.offset[0])/self.header.scale[0]))\n",
      "/DATA/abhishek/venv/lib/python3.7/site-packages/laspy/base.py:1448: RuntimeWarning: divide by zero encountered in true_divide\n",
      "  self.set_dimension(\"Y\", np.round((Y - self.header.offset[1])/self.header.scale[1]))\n",
      "/DATA/abhishek/venv/lib/python3.7/site-packages/laspy/base.py:1456: RuntimeWarning: divide by zero encountered in true_divide\n",
      "  self.set_dimension(\"Z\", np.round((Z-self.header.offset[2])/self.header.scale[2]))\n"
     ]
    }
   ],
   "source": [
    "with laspy.file.File(output_path, mode='w', header=header) as lasfile:\n",
    "#     lasfile.header.scale = [1.0, 1.0, 1.0]\n",
    "    lasfile.x = cloud['x']\n",
    "    lasfile.y = cloud['y']\n",
    "    lasfile.z = cloud['z']\n"
   ]
  },
  {
   "cell_type": "code",
   "execution_count": 5,
   "id": "c4fc618f",
   "metadata": {},
   "outputs": [
    {
     "data": {
      "text/plain": [
       "array([ 9, 19,  9, ...,  9, 17,  9], dtype=int32)"
      ]
     },
     "execution_count": 5,
     "metadata": {},
     "output_type": "execute_result"
    }
   ],
   "source": [
    "cloud['labels']"
   ]
  },
  {
   "cell_type": "code",
   "execution_count": null,
   "id": "72328d3b",
   "metadata": {},
   "outputs": [],
   "source": []
  }
 ],
 "metadata": {
  "kernelspec": {
   "display_name": "Python 3 (ipykernel)",
   "language": "python",
   "name": "python3"
  },
  "language_info": {
   "codemirror_mode": {
    "name": "ipython",
    "version": 3
   },
   "file_extension": ".py",
   "mimetype": "text/x-python",
   "name": "python",
   "nbconvert_exporter": "python",
   "pygments_lexer": "ipython3",
   "version": "3.7.6"
  }
 },
 "nbformat": 4,
 "nbformat_minor": 5
}
