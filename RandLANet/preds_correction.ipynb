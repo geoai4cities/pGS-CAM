{
 "cells": [
  {
   "cell_type": "code",
   "execution_count": 1,
   "id": "2dd8bf06",
   "metadata": {},
   "outputs": [],
   "source": [
    "import numpy as np\n",
    "from utils.ply import read_ply, write_ply"
   ]
  },
  {
   "cell_type": "code",
   "execution_count": 2,
   "id": "1878495e",
   "metadata": {},
   "outputs": [],
   "source": [
    "cloud = read_ply('visuals/person_0_vanillaCam.ply')"
   ]
  },
  {
   "cell_type": "code",
   "execution_count": 3,
   "id": "6a03f85c",
   "metadata": {},
   "outputs": [],
   "source": [
    "cloud['preds'] = cloud['preds'] + 1"
   ]
  },
  {
   "cell_type": "code",
   "execution_count": 4,
   "id": "acd64108",
   "metadata": {},
   "outputs": [
    {
     "data": {
      "text/plain": [
       "array([( 7.540624 , -3.390666, -1.9376526 , 0.,  9,  9),\n",
       "       ( 9.718201 , -4.530006,  0.24353848, 0., 13, 15),\n",
       "       ( 2.431724 ,  4.960377, -1.7215097 , 0., 11, 11), ...,\n",
       "       ( 1.6586494, -3.995818, -1.7903837 , 0.,  9,  9),\n",
       "       (-6.430637 ,  7.936633, -1.8198495 , 0.,  9,  9),\n",
       "       ( 7.779997 ,  3.450716, -1.7106481 , 0.,  9,  9)],\n",
       "      dtype=[('x', '<f4'), ('y', '<f4'), ('z', '<f4'), ('heatmap', '<f4'), ('labels', '<i4'), ('preds', '<i4')])"
      ]
     },
     "execution_count": 4,
     "metadata": {},
     "output_type": "execute_result"
    }
   ],
   "source": [
    "cloud"
   ]
  },
  {
   "cell_type": "code",
   "execution_count": 5,
   "id": "26611d18",
   "metadata": {},
   "outputs": [
    {
     "data": {
      "text/plain": [
       "True"
      ]
     },
     "execution_count": 5,
     "metadata": {},
     "output_type": "execute_result"
    }
   ],
   "source": [
    "write_ply('visuals/person_preds_corrected.ply', [cloud['x'], cloud['y'], cloud['z'], cloud['heatmap'], cloud['labels'], cloud['preds']], ['x', 'y', 'z', 'heatmap', 'labels', 'preds'])"
   ]
  },
  {
   "cell_type": "code",
   "execution_count": 9,
   "id": "daab289c",
   "metadata": {},
   "outputs": [
    {
     "data": {
      "text/plain": [
       "array([(  7.865799 ,  1.1106715, -1.8696451, 0.        ,  9,  9),\n",
       "       ( 11.830684 ,  6.9998474, -1.4241341, 0.53455865, 19, 18),\n",
       "       ( -1.2818925, -4.2100315, -1.7944413, 0.        ,  9,  9), ...,\n",
       "       ( -2.0731237,  4.005062 , -1.9872696, 0.        ,  9,  9),\n",
       "       ( -3.0928724, -8.940201 , -1.1993778, 0.14121315, 17, 15),\n",
       "       (-11.179254 ,  3.8765483, -1.8259513, 0.        ,  9,  9)],\n",
       "      dtype=[('x', '<f4'), ('y', '<f4'), ('z', '<f4'), ('heatmap', '<f4'), ('labels', '<i4'), ('preds', '<i4')])"
      ]
     },
     "execution_count": 9,
     "metadata": {},
     "output_type": "execute_result"
    }
   ],
   "source": [
    "cloud"
   ]
  },
  {
   "cell_type": "code",
   "execution_count": null,
   "id": "bce65011",
   "metadata": {},
   "outputs": [],
   "source": []
  }
 ],
 "metadata": {
  "kernelspec": {
   "display_name": "Python 3 (ipykernel)",
   "language": "python",
   "name": "python3"
  },
  "language_info": {
   "codemirror_mode": {
    "name": "ipython",
    "version": 3
   },
   "file_extension": ".py",
   "mimetype": "text/x-python",
   "name": "python",
   "nbconvert_exporter": "python",
   "pygments_lexer": "ipython3",
   "version": "3.7.6"
  }
 },
 "nbformat": 4,
 "nbformat_minor": 5
}
