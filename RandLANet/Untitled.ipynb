{
 "cells": [
  {
   "cell_type": "code",
   "execution_count": 19,
   "id": "88a8a637",
   "metadata": {},
   "outputs": [],
   "source": [
    "import torch"
   ]
  },
  {
   "cell_type": "code",
   "execution_count": 25,
   "id": "c2c7d88a",
   "metadata": {},
   "outputs": [],
   "source": [
    "a = torch.rand(100, 200, requires_grad=True)\n",
    "b = torch.pow(a, 3) + torch.pow(a, 2) + 3 * a\n",
    "# c = torch.nn.ReLU()(b)"
   ]
  },
  {
   "cell_type": "code",
   "execution_count": 26,
   "id": "0c6b4934",
   "metadata": {},
   "outputs": [],
   "source": [
    "# def nth_derivative(f, wrt, n):\n",
    "#     for i in range(n):\n",
    "#         grads = torch.autograd.grad(f, wrt, create_graph=True)[0]\n",
    "#         f = grads.sum()\n",
    "# #             f = grads.sum()\n",
    "\n",
    "#     return grads\n",
    "\n",
    "b.sum().backward(retain_graph=True)"
   ]
  },
  {
   "cell_type": "code",
   "execution_count": 27,
   "id": "dbef81cf",
   "metadata": {},
   "outputs": [
    {
     "data": {
      "text/plain": [
       "tensor([[0.2013, 0.0579, 0.2587,  ..., 0.2290, 0.3408, 0.2533],\n",
       "        [0.6008, 0.5878, 0.3748,  ..., 0.5982, 0.8347, 0.4248],\n",
       "        [0.4509, 0.3307, 0.3427,  ..., 0.8929, 0.9912, 0.7911],\n",
       "        ...,\n",
       "        [0.0869, 0.0842, 0.5798,  ..., 0.5534, 0.7443, 0.9428],\n",
       "        [0.3902, 0.3887, 0.8584,  ..., 0.6272, 0.4477, 0.6837],\n",
       "        [0.0795, 0.5130, 0.7923,  ..., 0.0277, 0.6737, 0.2966]],\n",
       "       requires_grad=True)"
      ]
     },
     "execution_count": 27,
     "metadata": {},
     "output_type": "execute_result"
    }
   ],
   "source": [
    "a"
   ]
  },
  {
   "cell_type": "code",
   "execution_count": 28,
   "id": "d5bfd7ed",
   "metadata": {},
   "outputs": [
    {
     "data": {
      "text/plain": [
       "tensor([[3.5241, 3.1258, 3.7183,  ..., 3.6153, 4.0300, 3.6992],\n",
       "        [5.2843, 5.2122, 4.1709,  ..., 5.2699, 6.7593, 4.3910],\n",
       "        [4.5116, 3.9896, 4.0376,  ..., 7.1775, 7.9302, 6.4600],\n",
       "        ...,\n",
       "        [3.1966, 3.1897, 5.1678,  ..., 5.0258, 6.1508, 7.5519],\n",
       "        [4.2372, 4.2307, 6.9271,  ..., 5.4344, 4.4968, 5.7699],\n",
       "        [3.1779, 4.8155, 6.4676,  ..., 3.0578, 5.7088, 3.8573]])"
      ]
     },
     "execution_count": 28,
     "metadata": {},
     "output_type": "execute_result"
    }
   ],
   "source": [
    "a.grad"
   ]
  },
  {
   "cell_type": "code",
   "execution_count": 29,
   "id": "2f4c0e47",
   "metadata": {},
   "outputs": [
    {
     "data": {
      "text/plain": [
       "tensor([[3.5241, 3.1258, 3.7183,  ..., 3.6153, 4.0300, 3.6992],\n",
       "        [5.2843, 5.2122, 4.1709,  ..., 5.2699, 6.7593, 4.3910],\n",
       "        [4.5116, 3.9896, 4.0376,  ..., 7.1775, 7.9302, 6.4600],\n",
       "        ...,\n",
       "        [3.1966, 3.1897, 5.1678,  ..., 5.0258, 6.1508, 7.5519],\n",
       "        [4.2372, 4.2307, 6.9271,  ..., 5.4344, 4.4968, 5.7699],\n",
       "        [3.1779, 4.8155, 6.4676,  ..., 3.0578, 5.7088, 3.8573]],\n",
       "       grad_fn=<AddBackward0>)"
      ]
     },
     "execution_count": 29,
     "metadata": {},
     "output_type": "execute_result"
    }
   ],
   "source": [
    "3*(a**2) + 2*a + 3"
   ]
  },
  {
   "cell_type": "code",
   "execution_count": 30,
   "id": "248ee6b0",
   "metadata": {},
   "outputs": [],
   "source": [
    "b.sum().backward(retain_graph=True)"
   ]
  },
  {
   "cell_type": "code",
   "execution_count": 31,
   "id": "4aa4a8ed",
   "metadata": {},
   "outputs": [
    {
     "data": {
      "text/plain": [
       "tensor([[ 7.0481,  6.2515,  7.4366,  ...,  7.2306,  8.0599,  7.3985],\n",
       "        [10.5685, 10.4245,  8.3418,  ..., 10.5397, 13.5187,  8.7820],\n",
       "        [ 9.0233,  7.9793,  8.0752,  ..., 14.3551, 15.8604, 12.9199],\n",
       "        ...,\n",
       "        [ 6.3931,  6.3794, 10.3357,  ..., 10.0516, 12.3016, 15.1038],\n",
       "        [ 8.4744,  8.4614, 13.8542,  ..., 10.8689,  8.9937, 11.5398],\n",
       "        [ 6.3558,  9.6309, 12.9352,  ...,  6.1156, 11.4177,  7.7146]])"
      ]
     },
     "execution_count": 31,
     "metadata": {},
     "output_type": "execute_result"
    }
   ],
   "source": [
    "a.grad"
   ]
  },
  {
   "cell_type": "code",
   "execution_count": 32,
   "id": "8ecb8921",
   "metadata": {},
   "outputs": [
    {
     "data": {
      "text/plain": [
       "tensor([[ 6.7317,  5.4729,  7.2708,  ...,  6.9893,  8.0747,  7.2193],\n",
       "        [10.8888, 10.7392,  8.4196,  ..., 10.8590, 13.7674,  8.9399],\n",
       "        [ 9.2169,  7.9741,  8.0936,  ..., 14.5349, 15.8777, 13.2068],\n",
       "        ...,\n",
       "        [ 5.7182,  5.6950, 10.6463,  ..., 10.3465, 12.6169, 15.2085],\n",
       "        [ 8.5784,  8.5629, 14.0773,  ..., 11.1975,  9.1832, 11.8723],\n",
       "        [ 5.6547,  9.8934, 13.2212,  ...,  5.2243, 11.7509,  7.6372]],\n",
       "       grad_fn=<AddBackward0>)"
      ]
     },
     "execution_count": 32,
     "metadata": {},
     "output_type": "execute_result"
    }
   ],
   "source": [
    "(6*a + 2) + (3*(a**2) + 2*a + 3)"
   ]
  },
  {
   "cell_type": "code",
   "execution_count": 33,
   "id": "523ff629",
   "metadata": {},
   "outputs": [
    {
     "data": {
      "text/plain": [
       "tensor([[ 0.3164,  0.7786,  0.1659,  ...,  0.2413, -0.0147,  0.1792],\n",
       "        [-0.3203, -0.3147, -0.0777,  ..., -0.3193, -0.2487, -0.1579],\n",
       "        [-0.1936,  0.0052, -0.0184,  ..., -0.1798, -0.0173, -0.2869],\n",
       "        ...,\n",
       "        [ 0.6749,  0.6844, -0.3107,  ..., -0.2949, -0.3152, -0.1046],\n",
       "        [-0.1040, -0.1015, -0.2231,  ..., -0.3287, -0.1895, -0.3325],\n",
       "        [ 0.7011, -0.2625, -0.2860,  ...,  0.8913, -0.3332,  0.0774]],\n",
       "       grad_fn=<SubBackward0>)"
      ]
     },
     "execution_count": 33,
     "metadata": {},
     "output_type": "execute_result"
    }
   ],
   "source": [
    "a.grad - ((6*a + 2) + (3*(a**2) + 2*a + 3))"
   ]
  },
  {
   "cell_type": "code",
   "execution_count": 34,
   "id": "724d227c",
   "metadata": {},
   "outputs": [],
   "source": [
    "b.sum().backward(retain_graph=True)"
   ]
  },
  {
   "cell_type": "code",
   "execution_count": 35,
   "id": "205e30dc",
   "metadata": {},
   "outputs": [
    {
     "data": {
      "text/plain": [
       "tensor([[10.5722,  9.3773, 11.1550,  ..., 10.8460, 12.0899, 11.0977],\n",
       "        [15.8528, 15.6367, 12.5127,  ..., 15.8096, 20.2780, 13.1731],\n",
       "        [13.5349, 11.9689, 12.1128,  ..., 21.5326, 23.7906, 19.3799],\n",
       "        ...,\n",
       "        [ 9.5897,  9.5691, 15.5035,  ..., 15.0774, 18.4525, 22.6558],\n",
       "        [12.7115, 12.6921, 20.7813,  ..., 16.3033, 13.4905, 17.3098],\n",
       "        [ 9.5337, 14.4464, 19.4029,  ...,  9.1734, 17.1265, 11.5719]])"
      ]
     },
     "execution_count": 35,
     "metadata": {},
     "output_type": "execute_result"
    }
   ],
   "source": [
    "a.grad"
   ]
  },
  {
   "cell_type": "code",
   "execution_count": 36,
   "id": "88573c10",
   "metadata": {},
   "outputs": [
    {
     "data": {
      "text/plain": [
       "tensor([[12.7317, 11.4729, 13.2708,  ..., 12.9893, 14.0747, 13.2193],\n",
       "        [16.8888, 16.7392, 14.4196,  ..., 16.8590, 19.7674, 14.9399],\n",
       "        [15.2169, 13.9741, 14.0936,  ..., 20.5349, 21.8777, 19.2068],\n",
       "        ...,\n",
       "        [11.7182, 11.6950, 16.6463,  ..., 16.3465, 18.6169, 21.2085],\n",
       "        [14.5784, 14.5629, 20.0773,  ..., 17.1975, 15.1832, 17.8723],\n",
       "        [11.6547, 15.8934, 19.2212,  ..., 11.2243, 17.7509, 13.6372]],\n",
       "       grad_fn=<AddBackward0>)"
      ]
     },
     "execution_count": 36,
     "metadata": {},
     "output_type": "execute_result"
    }
   ],
   "source": [
    "(6*a + 2) + (3*(a**2) + 2*a + 3) + 6"
   ]
  },
  {
   "cell_type": "code",
   "execution_count": 37,
   "id": "52172ae4",
   "metadata": {},
   "outputs": [
    {
     "data": {
      "text/plain": [
       "tensor([[-2.1595, -2.0956, -2.1158,  ..., -2.1434, -1.9848, -2.1216],\n",
       "        [-1.0360, -1.1024, -1.9068,  ..., -1.0494,  0.5107, -1.7668],\n",
       "        [-1.6820, -2.0051, -1.9808,  ...,  0.9977,  1.9129,  0.1731],\n",
       "        ...,\n",
       "        [-2.1285, -2.1259, -1.1428,  ..., -1.2691, -0.1644,  1.4473],\n",
       "        [-1.8669, -1.8709,  0.7040,  ..., -0.8942, -1.6927, -0.5625],\n",
       "        [-2.1210, -1.4470,  0.1816,  ..., -2.0509, -0.6243, -2.0653]],\n",
       "       grad_fn=<SubBackward0>)"
      ]
     },
     "execution_count": 37,
     "metadata": {},
     "output_type": "execute_result"
    }
   ],
   "source": [
    "a.grad - ((6*a + 2) + (3*(a**2) + 2*a + 3) + 6)"
   ]
  },
  {
   "cell_type": "code",
   "execution_count": null,
   "id": "717d79e0",
   "metadata": {},
   "outputs": [],
   "source": []
  }
 ],
 "metadata": {
  "kernelspec": {
   "display_name": "Python 3 (ipykernel)",
   "language": "python",
   "name": "python3"
  },
  "language_info": {
   "codemirror_mode": {
    "name": "ipython",
    "version": 3
   },
   "file_extension": ".py",
   "mimetype": "text/x-python",
   "name": "python",
   "nbconvert_exporter": "python",
   "pygments_lexer": "ipython3",
   "version": "3.9.12"
  }
 },
 "nbformat": 4,
 "nbformat_minor": 5
}
